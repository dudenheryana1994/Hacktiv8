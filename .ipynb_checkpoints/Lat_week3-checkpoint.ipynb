{
 "cells": [
  {
   "cell_type": "code",
   "execution_count": 3,
   "id": "2c949c3c",
   "metadata": {},
   "outputs": [],
   "source": [
    "keuangan = {\n",
    "'pengeluaran': [2, 2.5, 2.25, 2.5, 3.2, 2.5, 3,5, 4, 3],\n",
    "'pemasukan' : [7.8, 7,5, 9, 7.6, 7.2, 7.5, 7, 10, 7.5]\n",
    "}\n",
    "\n",
    "total_pengeluaran = 0\n",
    "total_pemasukan = 0\n",
    "for biaya in keuangan['pengeluaran']:\n",
    "  total_pengeluaran = biaya\n",
    "for biaya in keuangan['pengemasukan']:\n",
    "  total_pemasukan = biaya\n",
    "rata_rata_pengeluaran = total_pengeluaran/len(keuangan['pengeluaran'])\n",
    "rata_rata_pemasuka = total-pemasukan/len(keuangan['pemasukan'])\n",
    "print(rata_rata_pengeluaran)\n",
    "print(rata_rata_pemasukan"
   ]
  },
  {
   "cell_type": "code",
   "execution_count": null,
   "id": "b7abcdf6",
   "metadata": {},
   "outputs": [],
   "source": []
  }
 ],
 "metadata": {
  "kernelspec": {
   "display_name": "Python 3",
   "language": "python",
   "name": "python3"
  },
  "language_info": {
   "codemirror_mode": {
    "name": "ipython",
    "version": 3
   },
   "file_extension": ".py",
   "mimetype": "text/x-python",
   "name": "python",
   "nbconvert_exporter": "python",
   "pygments_lexer": "ipython3",
   "version": "3.8.8"
  }
 },
 "nbformat": 4,
 "nbformat_minor": 5
}
