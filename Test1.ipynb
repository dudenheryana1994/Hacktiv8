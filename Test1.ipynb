{
 "cells": [
  {
   "cell_type": "code",
   "execution_count": 3,
   "id": "147bfa12",
   "metadata": {},
   "outputs": [
    {
     "name": "stdout",
     "output_type": "stream",
     "text": [
      "After conditional\n"
     ]
    }
   ],
   "source": [
    "if 'foo' in ['bar', 'baz', 'qux']:\n",
    "    print('Expression was true')\n",
    "    print('Executing statement in suite')\n",
    "    print('...')\n",
    "    print('Done.')\n",
    "print('After conditional')"
   ]
  },
  {
   "cell_type": "code",
   "execution_count": 4,
   "id": "31a5363e",
   "metadata": {},
   "outputs": [
    {
     "name": "stdout",
     "output_type": "stream",
     "text": [
      "Outer condition is true\n",
      "Between inner conditions\n",
      "Inner condition 2\n",
      "End of outer condition\n",
      "After outer condition\n"
     ]
    }
   ],
   "source": [
    "# Does line execute?                        Yes    No\n",
    "#                                           ---    --\n",
    "if 'foo' in ['foo', 'bar', 'baz']:        #  x\n",
    "    print('Outer condition is true')      #  x\n",
    "\n",
    "    if 10 > 20:                           #  x\n",
    "        print('Inner condition 1')        #        x\n",
    "\n",
    "    print('Between inner conditions')     #  x\n",
    "\n",
    "    if 10 < 20:                           #  x\n",
    "        print('Inner condition 2')        #  x\n",
    "\n",
    "    print('End of outer condition')       #  x\n",
    "print('After outer condition')            #  x"
   ]
  },
  {
   "cell_type": "code",
   "execution_count": 7,
   "id": "2fb40516",
   "metadata": {},
   "outputs": [
    {
     "name": "stdout",
     "output_type": "stream",
     "text": [
      "bilangan ganjil\n"
     ]
    }
   ],
   "source": [
    "angka = 11\n",
    "if(angka%2 == 0):\n",
    "    print('bilangan genap')\n",
    "else:\n",
    "    print('bilangan ganjil')"
   ]
  },
  {
   "cell_type": "code",
   "execution_count": 8,
   "id": "edf421fa",
   "metadata": {},
   "outputs": [
    {
     "ename": "SyntaxError",
     "evalue": "invalid syntax (<ipython-input-8-69a5cc551396>, line 5)",
     "output_type": "error",
     "traceback": [
      "\u001b[1;36m  File \u001b[1;32m\"<ipython-input-8-69a5cc551396>\"\u001b[1;36m, line \u001b[1;32m5\u001b[0m\n\u001b[1;33m    if mystring == \"hello\"\u001b[0m\n\u001b[1;37m                          ^\u001b[0m\n\u001b[1;31mSyntaxError\u001b[0m\u001b[1;31m:\u001b[0m invalid syntax\n"
     ]
    }
   ],
   "source": [
    "mystring = \"hello\"\n",
    "myfloat = 10.0\n",
    "myint = 20\n",
    "\n",
    "if mystring == \"hello\"\n",
    "    print(\"String: %s\" % mystring)\n",
    "if isinstance(myfloat, float) and myfloat =10.0:\n",
    "    print(\"float\")"
   ]
  },
  {
   "cell_type": "code",
   "execution_count": 16,
   "id": "e7010ee3",
   "metadata": {},
   "outputs": [
    {
     "ename": "SyntaxError",
     "evalue": "invalid character in identifier (<ipython-input-16-a39163c285ce>, line 1)",
     "output_type": "error",
     "traceback": [
      "\u001b[1;36m  File \u001b[1;32m\"<ipython-input-16-a39163c285ce>\"\u001b[1;36m, line \u001b[1;32m1\u001b[0m\n\u001b[1;33m    i = 0\u001b[0m\n\u001b[1;37m         ^\u001b[0m\n\u001b[1;31mSyntaxError\u001b[0m\u001b[1;31m:\u001b[0m invalid character in identifier\n"
     ]
    }
   ],
   "source": []
  },
  {
   "cell_type": "code",
   "execution_count": 27,
   "id": "fd658864",
   "metadata": {},
   "outputs": [
    {
     "name": "stdout",
     "output_type": "stream",
     "text": [
      "Both conditions are true\n"
     ]
    }
   ],
   "source": [
    "a = 200\n",
    "b = 33\n",
    "c = 50\n",
    "if a > b and c > b:\n",
    "    print(\"Both conditions are true\")"
   ]
  },
  {
   "cell_type": "code",
   "execution_count": 48,
   "id": "9522de20",
   "metadata": {},
   "outputs": [
    {
     "name": "stdout",
     "output_type": "stream",
     "text": [
      "1\n",
      "2\n",
      "4\n",
      "5\n",
      "6\n"
     ]
    }
   ],
   "source": [
    "i = 0\n",
    "while i < 6:\n",
    " i += 1\n",
    " if i == 3:\n",
    "   continue\n",
    " print(i)"
   ]
  },
  {
   "cell_type": "code",
   "execution_count": 49,
   "id": "d5afcc25",
   "metadata": {},
   "outputs": [
    {
     "name": "stdout",
     "output_type": "stream",
     "text": [
      "402\n",
      "984\n",
      "360\n",
      "408\n",
      "980\n",
      "544\n",
      "390\n",
      "984\n",
      "592\n",
      "236\n",
      "942\n",
      "386\n",
      "462\n",
      "418\n",
      "344\n",
      "236\n",
      "566\n",
      "978\n",
      "328\n",
      "162\n",
      "758\n",
      "918\n",
      "Done\n"
     ]
    }
   ],
   "source": [
    "  numbers = [951, 402, 984, 651, 360, 69, 408, 319, 601,\n",
    "            485, 980, 507, 725, 547, 544, 615, 83, 165,\n",
    "            141, 501, 263, 617, 865, 575, 219, 390, 984,\n",
    "            592, 236, 105, 942, 941, 386, 462, 47, 418,\n",
    "            907, 344, 236, 375, 823, 566, 597, 978, 328,\n",
    "            615, 953, 345, 399, 162, 758, 219, 918, 237,\n",
    "            412, 566, 826, 248, 866, 950, 626, 949]\n",
    "for i in numbers[:-9]:\n",
    "    if i % 2 == 0:\n",
    "        print(i)\n",
    "    else:\n",
    "        continue\n",
    "print(\"Done\")"
   ]
  },
  {
   "cell_type": "code",
   "execution_count": 61,
   "id": "e575feb2",
   "metadata": {},
   "outputs": [
    {
     "name": "stdout",
     "output_type": "stream",
     "text": [
      "0 , 1\n",
      "1 , 2\n",
      "2 , 3\n",
      "3 , 4\n"
     ]
    }
   ],
   "source": [
    "list = [1,2,3,4]\n",
    "for i, val in enumerate(list):\n",
    " print(i,\",\",val)"
   ]
  },
  {
   "cell_type": "code",
   "execution_count": 66,
   "id": "7a3a7b5f",
   "metadata": {},
   "outputs": [
    {
     "ename": "IndentationError",
     "evalue": "unexpected indent (<ipython-input-66-bc77ac0e6c59>, line 2)",
     "output_type": "error",
     "traceback": [
      "\u001b[1;36m  File \u001b[1;32m\"<ipython-input-66-bc77ac0e6c59>\"\u001b[1;36m, line \u001b[1;32m2\u001b[0m\n\u001b[1;33m    print(list1.pop())\u001b[0m\n\u001b[1;37m    ^\u001b[0m\n\u001b[1;31mIndentationError\u001b[0m\u001b[1;31m:\u001b[0m unexpected indent\n"
     ]
    }
   ],
   "source": [
    "list1 = [ 1,2,3,4,5,6 ]\n",
    " print(list1.pop())\n",
    " print(\"New list after pop :\",list1\"\\n\")\n",
    "while list1:\n",
    " print(\"list1.pop\"(-1))\n",
    "print(\"nilai setelah di while loop dengan pop: \\n\",list1)"
   ]
  },
  {
   "cell_type": "code",
   "execution_count": 67,
   "id": "47362f42",
   "metadata": {},
   "outputs": [
    {
     "ename": "SyntaxError",
     "evalue": "Missing parentheses in call to 'print'. Did you mean print(\"Hello ini Fungsi\")? (<ipython-input-67-2be50dd7c7f8>, line 2)",
     "output_type": "error",
     "traceback": [
      "\u001b[1;36m  File \u001b[1;32m\"<ipython-input-67-2be50dd7c7f8>\"\u001b[1;36m, line \u001b[1;32m2\u001b[0m\n\u001b[1;33m    print \"Hello ini Fungsi\"\u001b[0m\n\u001b[1;37m          ^\u001b[0m\n\u001b[1;31mSyntaxError\u001b[0m\u001b[1;31m:\u001b[0m Missing parentheses in call to 'print'. Did you mean print(\"Hello ini Fungsi\")?\n"
     ]
    }
   ],
   "source": [
    "def nama_fungsi():\n",
    "    print \"Hello ini Fungsi\""
   ]
  },
  {
   "cell_type": "code",
   "execution_count": 85,
   "id": "915ca7ef",
   "metadata": {},
   "outputs": [
    {
     "name": "stdout",
     "output_type": "stream",
     "text": [
      "Teman saya adalah Email\n"
     ]
    }
   ],
   "source": [
    "def my_function(* nama):\n",
    " print(\"Teman saya adalah \" + nama[0])\n",
    "\n",
    "my_function(\"Email\", \"bego\", \"load\")"
   ]
  },
  {
   "cell_type": "code",
   "execution_count": 87,
   "id": "881bed3f",
   "metadata": {},
   "outputs": [
    {
     "name": "stdout",
     "output_type": "stream",
     "text": [
      "Temperature in Kelvin (K)= (89.6, (-253, 15))\n"
     ]
    }
   ],
   "source": [
    "def convert(fahr,kelv):\n",
    "    cels = fahr * 1.8 + 32.0\n",
    "    cels2 = kelv -273,15\n",
    "    return cels, cels2\n",
    "print(\"Temperature in Kelvin (K)=\",convert(32,20))"
   ]
  },
  {
   "cell_type": "code",
   "execution_count": 100,
   "id": "ec98a0ac",
   "metadata": {},
   "outputs": [
    {
     "name": "stdout",
     "output_type": "stream",
     "text": [
      "[72, 297.3722222222222, 22.22222222222222]\n"
     ]
    }
   ],
   "source": [
    "def temp_converter(ftemp):\n",
    "    ctemp = (ftemp - 32) * (5/9)\n",
    "    ktemp = ctemp + 275.15\n",
    "    return [ftemp,ktemp,ctemp]\n",
    "print(temp_converter(72))"
   ]
  },
  {
   "cell_type": "code",
   "execution_count": 102,
   "id": "99c33249",
   "metadata": {},
   "outputs": [],
   "source": [
    "def inch_to_cent(inches):\n",
    "    cent = inches * 2.54\n",
    "    return cent\n",
    "print(inch_to_cent(10))"
   ]
  },
  {
   "cell_type": "code",
   "execution_count": 107,
   "id": "1d1ccb3c",
   "metadata": {},
   "outputs": [
    {
     "name": "stdout",
     "output_type": "stream",
     "text": [
      "20\n"
     ]
    }
   ],
   "source": [
    "def sum(numbers):\n",
    "    total = 0\n",
    "    for x in numbers:\n",
    "        total +=x\n",
    "    return total\n",
    "print(sum((8,2,3,0,7)))"
   ]
  },
  {
   "cell_type": "code",
   "execution_count": 106,
   "id": "37d20be1",
   "metadata": {},
   "outputs": [
    {
     "name": "stdout",
     "output_type": "stream",
     "text": [
      "20\n"
     ]
    }
   ],
   "source": [
    "print(sum((8,2,3,0,7)))"
   ]
  },
  {
   "cell_type": "code",
   "execution_count": 135,
   "id": "0781b556",
   "metadata": {},
   "outputs": [
    {
     "name": "stdout",
     "output_type": "stream",
     "text": [
      "5 is in the range\n"
     ]
    }
   ],
   "source": [
    "def test_range(n):\n",
    "    if n in range(3,9):\n",
    "        print(\"%s is in the range\"%str(n))\n",
    "    else:\n",
    "        print(\"The number is outside the given range.\")\n",
    "test_range(5)"
   ]
  },
  {
   "cell_type": "code",
   "execution_count": 132,
   "id": "6cd40c46",
   "metadata": {},
   "outputs": [
    {
     "name": "stdout",
     "output_type": "stream",
     "text": [
      "[1, 4, 9, 16, 25, 36, 49, 64, 81, 100, 121, 144, 169, 196, 225, 256, 289, 324, 361, 400]\n"
     ]
    }
   ],
   "source": [
    "def printValues():\n",
    "    l = []\n",
    "    for i in range(1,21):\n",
    "        l.append(i**2)\n",
    "    print(l)\n",
    "\n",
    "printValues()\n"
   ]
  },
  {
   "cell_type": "code",
   "execution_count": null,
   "id": "7bc33c9d",
   "metadata": {},
   "outputs": [],
   "source": []
  },
  {
   "cell_type": "code",
   "execution_count": null,
   "id": "475d8307",
   "metadata": {},
   "outputs": [],
   "source": []
  }
 ],
 "metadata": {
  "kernelspec": {
   "display_name": "Python 3",
   "language": "python",
   "name": "python3"
  },
  "language_info": {
   "codemirror_mode": {
    "name": "ipython",
    "version": 3
   },
   "file_extension": ".py",
   "mimetype": "text/x-python",
   "name": "python",
   "nbconvert_exporter": "python",
   "pygments_lexer": "ipython3",
   "version": "3.8.8"
  }
 },
 "nbformat": 4,
 "nbformat_minor": 5
}
